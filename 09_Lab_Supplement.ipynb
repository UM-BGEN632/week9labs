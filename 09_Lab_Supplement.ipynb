{
 "cells": [
  {
   "cell_type": "markdown",
   "id": "8235d242-f5ba-4e4e-8551-01e5d26e3b8e",
   "metadata": {},
   "source": [
    "UM MSBA - BGEN632 \n",
    "\n",
    "### A Brief Stats Explainer\n",
    "\n",
    "Notebook created by Olivia B. Newton to supplement Week 9 course materials. This notebook uses the ozone dataset to demonstrate some tasks required for the independent lab assignment. The content in this notebook is based on questions asked by students in Spring 2025 term.\n",
    "\n",
    "#### Notebook Setup"
   ]
  },
  {
   "cell_type": "code",
   "execution_count": 2,
   "id": "db379268-adfa-4f59-81ed-450537d8c450",
   "metadata": {},
   "outputs": [],
   "source": [
    "# load modules\n",
    "import os\n",
    "import pandas as pd\n",
    "import statsmodels.formula.api as smf # ols regression"
   ]
  },
  {
   "cell_type": "code",
   "execution_count": 3,
   "id": "9303bce9-513d-44bd-ad78-5da682241334",
   "metadata": {},
   "outputs": [
    {
     "data": {
      "text/plain": [
       "'/Users/obn/Documents/GitHub/UM-BGEN632/week9labs/data'"
      ]
     },
     "execution_count": 3,
     "metadata": {},
     "output_type": "execute_result"
    }
   ],
   "source": [
    "# set working directory\n",
    "os.chdir(\"/Users/obn/Documents/GitHub/UM-BGEN632/week9labs/data\")  # change this to your filepath\n",
    "os.getcwd()  # confirm change"
   ]
  },
  {
   "cell_type": "code",
   "execution_count": 4,
   "id": "ded9c665-1de2-44e8-a465-67271a11805c",
   "metadata": {},
   "outputs": [],
   "source": [
    "# load ozone data\n",
    "ozone_df = pd.read_table(\"ozone.data.txt\")"
   ]
  },
  {
   "cell_type": "markdown",
   "id": "4e4d01d8-d0ab-40e9-8d80-6de354999055",
   "metadata": {},
   "source": [
    "#### Questions and Responses\n",
    "\n",
    "**Q1: What does \"using `intent1_01` as the target variable\" mean? Should `intent1_01` be placed on the y-axis on a scatterplot?**\n",
    "\n",
    "**A1:** Yes. In this assignment, `intent1_01` is your target, or *response*, variable. That means that you are investigating what other variables are associated with differences in `intent1_01` variable. \n",
    "\n",
    "* Explanatory variable may also be called a predictor or independent variable.\n",
    "* Response variable may also be called a target or dependent variable.\n",
    "\n",
    "In general, we place the explanatory variable on the x-axis and the response variable on the y-axis. As an example, we can consider ice cream sales. If we were interested in predicting ice cream sales, our response variable might be the number of ice cream cones sold on a given day. We would then consider the factors that might drive ice cream sales, like temperature. To visualize this relationship, we can place temperature on the x-axis and ice cream sales on the y-axis. We might then observe a positive association between these two variables: ice cream sales increase as temperature increases. To test whether this association is statistically significant, we can build a simple regression model: `sales ~ temperature`.\n",
    "\n",
    "In the tutorial, we built a model where ozone was the response variable and radiation, wind, and temperature were the selected explanatory variables: `ozone ~ radiation + wind + temperature`. In other words, we expect that radiation, wind, and temperature will predict ozone values. We would want to begin our analysis by plotting the relationship between explanatory-response variable pairs:\n",
    "\n",
    "* ozone ~ radiation\n",
    "* ozone ~ wind\n",
    "* ozone ~ temperature\n",
    "\n",
    "The code below demonstrates the creation of a scatterplot for the first pair:"
   ]
  },
  {
   "cell_type": "code",
   "execution_count": 6,
   "id": "b4df22ef-1baf-488a-860f-edf00923ba02",
   "metadata": {},
   "outputs": [
    {
     "data": {
      "text/plain": [
       "<Axes: xlabel='rad', ylabel='ozone'>"
      ]
     },
     "execution_count": 6,
     "metadata": {},
     "output_type": "execute_result"
    },
    {
     "data": {
      "image/png": "[encoded data removed]",
      "text/plain": [
       "<Figure size 640x480 with 1 Axes>"
      ]
     },
     "metadata": {},
     "output_type": "display_data"
    }
   ],
   "source": [
    "ozone_df.plot.scatter(x='rad', y='ozone')"
   ]
  },
  {
   "cell_type": "markdown",
   "id": "e354bc9c-8aed-424f-88d2-2cebd5154c9a",
   "metadata": {},
   "source": [
    "**Q2: What is an *F*-test? What is a *t*-test?**\n",
    "\n",
    "**A2:** There is a reference to these tests in the Regression in Python section, but the tests are not explained in detail:\n",
    "\n",
    "> The *F*-statistic with its accompanying *p*-value is found on the right-hand side of the output. The *t*-tests are located toward the bottom along with the *p*-values and estimates, or coefficients. The output also contains the R-Squared ($R^2$) and the (more important) Adjusted $R^2$. Lastly, a bonus is the AIC and BIC fit indices. These fit indices are meaningful when compared to the fit indices of other models (i.e., when you are trying to select the best model from a set).\n",
    "\n",
    "In the MSBA program, students should take the applied statistics course before this Python course, so it is generally assumed that students come in with some foundational knowledge of statistics. This foundation, paired with our focus on Python, is the reason that we do not go into depth on these topics. I will give a brief explanation here with the caveat that I am collapsing a lot of information for the sake of simplicity. \n",
    "\n",
    "The *F*-statistic is a value we rely on to determine if our model is statistically significant. It helps us determine how well the regression line obtained fits the given data points.\n",
    "\n",
    "<div><center>\n",
    "  <img src=\"https://vitalflux.com/wp-content/uploads/2022/02/simple-linear-regression-line.jpg\" width=500>\n",
    "</center></div>\n",
    "\n",
    "The *F*-test will tell us if a group of variables are jointly significant. The model summary output will include the *F*-statistic and it's corresponding *p*-value. \n",
    "\n",
    "* *F* value = variance of the group means (Mean Square Between) / mean of the within group variances (Mean Squared Error)\n",
    "  * You get this test statistic when you run a regression analysis.\n",
    "* The *F* value in regression is the result of a test where the null hypothesis is that all of the regression coefficients are equal to zero. In other words, the model has no predictive capability. Basically, the *F*-test compares your model with zero predictor variables (the intercept-only model), and decides whether your added coefficients improved the model. If you get a significant result, then whatever coefficients you included in your model improved the model's fit.\n",
    "\n",
    "In terms of getting the statistics for the *F*-test and *t*-test statistics in the independent lab, you can use the .summary() function with the model that you construct. I'll use the `lin_reg_2 model` we created in the tutorial to demonstrate how to do this. "
   ]
  },
  {
   "cell_type": "code",
   "execution_count": 8,
   "id": "56dad8e8-b724-406b-81e3-b98c1f155a91",
   "metadata": {},
   "outputs": [
    {
     "data": {
      "text/html": [
       "<table class=\"simpletable\">\n",
       "<caption>OLS Regression Results</caption>\n",
       "<tr>\n",
       "  <th>Dep. Variable:</th>          <td>ozone</td>      <th>  R-squared:         </th> <td>   0.606</td>\n",
       "</tr>\n",
       "<tr>\n",
       "  <th>Model:</th>                   <td>OLS</td>       <th>  Adj. R-squared:    </th> <td>   0.595</td>\n",
       "</tr>\n",
       "<tr>\n",
       "  <th>Method:</th>             <td>Least Squares</td>  <th>  F-statistic:       </th> <td>   54.91</td>\n",
       "</tr>\n",
       "<tr>\n",
       "  <th>Date:</th>             <td>Tue, 22 Apr 2025</td> <th>  Prob (F-statistic):</th> <td>1.45e-21</td>\n",
       "</tr>\n",
       "<tr>\n",
       "  <th>Time:</th>                 <td>15:08:48</td>     <th>  Log-Likelihood:    </th> <td> -494.31</td>\n",
       "</tr>\n",
       "<tr>\n",
       "  <th>No. Observations:</th>      <td>   111</td>      <th>  AIC:               </th> <td>   996.6</td>\n",
       "</tr>\n",
       "<tr>\n",
       "  <th>Df Residuals:</th>          <td>   107</td>      <th>  BIC:               </th> <td>   1007.</td>\n",
       "</tr>\n",
       "<tr>\n",
       "  <th>Df Model:</th>              <td>     3</td>      <th>                     </th>     <td> </td>   \n",
       "</tr>\n",
       "<tr>\n",
       "  <th>Covariance Type:</th>      <td>nonrobust</td>    <th>                     </th>     <td> </td>   \n",
       "</tr>\n",
       "</table>\n",
       "<table class=\"simpletable\">\n",
       "<tr>\n",
       "      <td></td>         <th>coef</th>     <th>std err</th>      <th>t</th>      <th>P>|t|</th>  <th>[0.025</th>    <th>0.975]</th>  \n",
       "</tr>\n",
       "<tr>\n",
       "  <th>Intercept</th> <td>  -64.2321</td> <td>   23.042</td> <td>   -2.788</td> <td> 0.006</td> <td> -109.910</td> <td>  -18.554</td>\n",
       "</tr>\n",
       "<tr>\n",
       "  <th>rad</th>       <td>    0.0598</td> <td>    0.023</td> <td>    2.580</td> <td> 0.011</td> <td>    0.014</td> <td>    0.106</td>\n",
       "</tr>\n",
       "<tr>\n",
       "  <th>wind</th>      <td>   -3.3376</td> <td>    0.654</td> <td>   -5.105</td> <td> 0.000</td> <td>   -4.634</td> <td>   -2.041</td>\n",
       "</tr>\n",
       "<tr>\n",
       "  <th>temp</th>      <td>    1.6512</td> <td>    0.253</td> <td>    6.516</td> <td> 0.000</td> <td>    1.149</td> <td>    2.154</td>\n",
       "</tr>\n",
       "</table>\n",
       "<table class=\"simpletable\">\n",
       "<tr>\n",
       "  <th>Omnibus:</th>       <td>38.276</td> <th>  Durbin-Watson:     </th> <td>   1.935</td>\n",
       "</tr>\n",
       "<tr>\n",
       "  <th>Prob(Omnibus):</th> <td> 0.000</td> <th>  Jarque-Bera (JB):  </th> <td>  84.526</td>\n",
       "</tr>\n",
       "<tr>\n",
       "  <th>Skew:</th>          <td> 1.360</td> <th>  Prob(JB):          </th> <td>4.42e-19</td>\n",
       "</tr>\n",
       "<tr>\n",
       "  <th>Kurtosis:</th>      <td> 6.297</td> <th>  Cond. No.          </th> <td>2.50e+03</td>\n",
       "</tr>\n",
       "</table><br/><br/>Notes:<br/>[1] Standard Errors assume that the covariance matrix of the errors is correctly specified.<br/>[2] The condition number is large, 2.5e+03. This might indicate that there are<br/>strong multicollinearity or other numerical problems."
      ],
      "text/latex": [
       "\\begin{center}\n",
       "\\begin{tabular}{lclc}\n",
       "\\toprule\n",
       "\\textbf{Dep. Variable:}    &      ozone       & \\textbf{  R-squared:         } &     0.606   \\\\\n",
       "\\textbf{Model:}            &       OLS        & \\textbf{  Adj. R-squared:    } &     0.595   \\\\\n",
       "\\textbf{Method:}           &  Least Squares   & \\textbf{  F-statistic:       } &     54.91   \\\\\n",
       "\\textbf{Date:}             & Tue, 22 Apr 2025 & \\textbf{  Prob (F-statistic):} &  1.45e-21   \\\\\n",
       "\\textbf{Time:}             &     15:08:48     & \\textbf{  Log-Likelihood:    } &   -494.31   \\\\\n",
       "\\textbf{No. Observations:} &         111      & \\textbf{  AIC:               } &     996.6   \\\\\n",
       "\\textbf{Df Residuals:}     &         107      & \\textbf{  BIC:               } &     1007.   \\\\\n",
       "\\textbf{Df Model:}         &           3      & \\textbf{                     } &             \\\\\n",
       "\\textbf{Covariance Type:}  &    nonrobust     & \\textbf{                     } &             \\\\\n",
       "\\bottomrule\n",
       "\\end{tabular}\n",
       "\\begin{tabular}{lcccccc}\n",
       "                   & \\textbf{coef} & \\textbf{std err} & \\textbf{t} & \\textbf{P$> |$t$|$} & \\textbf{[0.025} & \\textbf{0.975]}  \\\\\n",
       "\\midrule\n",
       "\\textbf{Intercept} &     -64.2321  &       23.042     &    -2.788  &         0.006        &     -109.910    &      -18.554     \\\\\n",
       "\\textbf{rad}       &       0.0598  &        0.023     &     2.580  &         0.011        &        0.014    &        0.106     \\\\\n",
       "\\textbf{wind}      &      -3.3376  &        0.654     &    -5.105  &         0.000        &       -4.634    &       -2.041     \\\\\n",
       "\\textbf{temp}      &       1.6512  &        0.253     &     6.516  &         0.000        &        1.149    &        2.154     \\\\\n",
       "\\bottomrule\n",
       "\\end{tabular}\n",
       "\\begin{tabular}{lclc}\n",
       "\\textbf{Omnibus:}       & 38.276 & \\textbf{  Durbin-Watson:     } &    1.935  \\\\\n",
       "\\textbf{Prob(Omnibus):} &  0.000 & \\textbf{  Jarque-Bera (JB):  } &   84.526  \\\\\n",
       "\\textbf{Skew:}          &  1.360 & \\textbf{  Prob(JB):          } & 4.42e-19  \\\\\n",
       "\\textbf{Kurtosis:}      &  6.297 & \\textbf{  Cond. No.          } & 2.50e+03  \\\\\n",
       "\\bottomrule\n",
       "\\end{tabular}\n",
       "%\\caption{OLS Regression Results}\n",
       "\\end{center}\n",
       "\n",
       "Notes: \\newline\n",
       " [1] Standard Errors assume that the covariance matrix of the errors is correctly specified. \\newline\n",
       " [2] The condition number is large, 2.5e+03. This might indicate that there are \\newline\n",
       " strong multicollinearity or other numerical problems."
      ],
      "text/plain": [
       "<class 'statsmodels.iolib.summary.Summary'>\n",
       "\"\"\"\n",
       "                            OLS Regression Results                            \n",
       "==============================================================================\n",
       "Dep. Variable:                  ozone   R-squared:                       0.606\n",
       "Model:                            OLS   Adj. R-squared:                  0.595\n",
       "Method:                 Least Squares   F-statistic:                     54.91\n",
       "Date:                Tue, 22 Apr 2025   Prob (F-statistic):           1.45e-21\n",
       "Time:                        15:08:48   Log-Likelihood:                -494.31\n",
       "No. Observations:                 111   AIC:                             996.6\n",
       "Df Residuals:                     107   BIC:                             1007.\n",
       "Df Model:                           3                                         \n",
       "Covariance Type:            nonrobust                                         \n",
       "==============================================================================\n",
       "                 coef    std err          t      P>|t|      [0.025      0.975]\n",
       "------------------------------------------------------------------------------\n",
       "Intercept    -64.2321     23.042     -2.788      0.006    -109.910     -18.554\n",
       "rad            0.0598      0.023      2.580      0.011       0.014       0.106\n",
       "wind          -3.3376      0.654     -5.105      0.000      -4.634      -2.041\n",
       "temp           1.6512      0.253      6.516      0.000       1.149       2.154\n",
       "==============================================================================\n",
       "Omnibus:                       38.276   Durbin-Watson:                   1.935\n",
       "Prob(Omnibus):                  0.000   Jarque-Bera (JB):               84.526\n",
       "Skew:                           1.360   Prob(JB):                     4.42e-19\n",
       "Kurtosis:                       6.297   Cond. No.                     2.50e+03\n",
       "==============================================================================\n",
       "\n",
       "Notes:\n",
       "[1] Standard Errors assume that the covariance matrix of the errors is correctly specified.\n",
       "[2] The condition number is large, 2.5e+03. This might indicate that there are\n",
       "strong multicollinearity or other numerical problems.\n",
       "\"\"\""
      ]
     },
     "execution_count": 8,
     "metadata": {},
     "output_type": "execute_result"
    }
   ],
   "source": [
    "# create model\n",
    "lin_reg_2 = smf.ols('ozone ~ rad + wind + temp', ozone_df).fit()\n",
    "\n",
    "# get model summary output\n",
    "lin_reg_2.summary()"
   ]
  },
  {
   "cell_type": "markdown",
   "id": "d79c4375-8110-4b0c-9fd8-50203fac90d4",
   "metadata": {},
   "source": [
    "---\n",
    "\n",
    "When you run the code above you will see that the *F*-statistic value is `54.91` and it's *p*-value is `1.45e-21`. \n",
    "\n",
    "The *F*-statistic gives us an idea of how much variation in the response variable (ozone) is explained by the model (radiation + wind + temperature). If the *F*-statistic were zero, that would suggest that the model does not explain variation in the response variable. \n",
    "\n",
    "The *p*-value is provided in scientific notation which we can easily convert to a more human interpretable format (i.e., a real number) with [an online tool](https://www.calculatorsoup.com/calculators/math/scientific-notation-converter.php). The *p*-value is 0.00000000000000000000145. It's a very small number; scientific notation provides a concise representation. An aside, when reporting a *p*-value of 0.00000000000000000000145, we would format like so:\n",
    "\n",
    "* *p* < .0001 (preferred)\n",
    "<br>*OR*\n",
    "* *p* = .00000000000000000000145 (not preferred, but transparent)\n",
    "\n",
    "Note that the zero before the decimal is not included when we report *p*-values in the social and organizational sciences! \n",
    "\n",
    "The *p*-value is significant (*p < .05 is a commonly adopted threshold for significance*) which means that the overall model (radiation + wind + temperature) is statistically significant. We can report the *F*-statistic and *p*-value together like so, where the values in the parentheses next to the letter F are the degrees of freedom (df) which are also provided in the model summary output:\n",
    "\n",
    "* *F*(3, 107) = 54.91 (*p* < .0001)\n",
    "\n",
    "While the *F*-test is providing information about the overall model, the *t*-test and its statistic tells us about the statistical significance of individual terms in the model. That is why there is a *t*-statistic and corresponding *p*-value for each model term (radiation, wind, temperature) provided in the model summary output (see the columns with the lower case t and P>|t| headers). I've pasted in the values below for clarity.\n",
    "\n",
    "* Radiation: *t* = 2.58 (*p* = .011)\n",
    "* Wind: *t* = -5.11 (*p* < .0001)\n",
    "* Temperature: *t* = 6.52 (*p* < .0001)\n",
    "\n",
    "Each model term has a significant *p*-value (*p* < .05): each explanatory variable in the model is statistically significant. The size of the absolute value of *t*-statistic informs our assessment of the likelihood that the coefficient has predictive power, where a larger value indicates higher reliability of predictive power. \n",
    " \n",
    "**Q3: How can the equation of the model be constructed? How is it interpreted?**\n",
    "\n",
    "**A3:** We can construct the model equation by using the coefficients provided in the model summary output. I'll again use the `lin_reg_2` model from the tutorial to demonstrate how to do this. Based on the coefficient values (see `coef` column) in the model summary output, we can construct the regression equation as follows:\n",
    "\n",
    "> ozone = -64.23 + 0.06 radiation - 3.34 wind + 1.65 temperature\n",
    "\n",
    "Note that I have rounded the coefficients to the nearest hundredths place. A simple interpretation of the equation:\n",
    "\n",
    "1. If radiation increases by 1, ozone will increase by 0.06.\n",
    "1. If wind increases by 1, ozone will decrease by 3.34.\n",
    "1. If temperature increases by 1, ozone will increase by 1.65"
   ]
  },
  {
   "cell_type": "code",
   "execution_count": null,
   "id": "ec3d2ca3-bb3f-4b20-9a95-c4671e7db441",
   "metadata": {},
   "outputs": [],
   "source": []
  }
 ],
 "metadata": {
  "kernelspec": {
   "display_name": "Python [conda env:base] *",
   "language": "python",
   "name": "conda-base-py"
  },
  "language_info": {
   "codemirror_mode": {
    "name": "ipython",
    "version": 3
   },
   "file_extension": ".py",
   "mimetype": "text/x-python",
   "name": "python",
   "nbconvert_exporter": "python",
   "pygments_lexer": "ipython3",
   "version": "3.12.2"
  }
 },
 "nbformat": 4,
 "nbformat_minor": 5
}
